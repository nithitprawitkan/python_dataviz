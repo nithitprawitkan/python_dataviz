{
 "cells": [
  {
   "cell_type": "markdown",
   "metadata": {},
   "source": [
    "#### function คือ ช่วยในไม่ต้องเขียนโค้ดซำ้ๆ"
   ]
  },
  {
   "cell_type": "markdown",
   "metadata": {},
   "source": [
    "# function\n",
    "### print ชื่อ XXX  นามสกุล YYYY รหัส ZZZ\n",
    "### print เกรด วิชา Stat 1 >>> AAA"
   ]
  },
  {
   "cell_type": "code",
   "execution_count": 8,
   "metadata": {},
   "outputs": [
    {
     "name": "stdout",
     "output_type": "stream",
     "text": [
      "ชื่อ นิธิศ นามสกุล ประวิตรกาญจน์ รหัส 603021869-1\n"
     ]
    }
   ],
   "source": [
    "a = 'ชื่อ นิธิศ นามสกุล ประวิตรกาญจน์ รหัส 603021869-1'\n",
    "print(a)"
   ]
  },
  {
   "cell_type": "code",
   "execution_count": 10,
   "metadata": {},
   "outputs": [
    {
     "name": "stdout",
     "output_type": "stream",
     "text": [
      "ชื่อ นิธิศ นามสกุล ประวิตรกาญจน์ รหัส 603021869-1\n"
     ]
    }
   ],
   "source": [
    "name = 'นิธิศ'\n",
    "surname ='ประวิตรกาญจน์'\n",
    "ID = '603021869-1'\n",
    "\n",
    "b = f'ชื่อ {name} นามสกุล {surname} รหัส {ID}'\n",
    "print(b)"
   ]
  },
  {
   "cell_type": "code",
   "execution_count": null,
   "metadata": {},
   "outputs": [],
   "source": []
  },
  {
   "cell_type": "markdown",
   "metadata": {},
   "source": [
    "# function template\n",
    "```python\n",
    "def function_name(x):\n",
    "   do_someting \n",
    "    return y\n",
    "```\n",
    "x คือ input ของ function\n",
    ",y คือ output"
   ]
  },
  {
   "cell_type": "markdown",
   "metadata": {},
   "source": [
    "## ช่วยให้ไม่ต้องพิม ชื่อ สกุล นำหน้าเอง"
   ]
  },
  {
   "cell_type": "code",
   "execution_count": 11,
   "metadata": {},
   "outputs": [],
   "source": [
    "def print_line1(name1,surname1,ID1):\n",
    "    st = f'ชื่อ {name1} นามสกุล {surname1} รหัส {ID1}'\n",
    "    return st"
   ]
  },
  {
   "cell_type": "code",
   "execution_count": 12,
   "metadata": {},
   "outputs": [
    {
     "name": "stdout",
     "output_type": "stream",
     "text": [
      "ชื่อ นิธิศ นามสกุล ประวิตรกาญจน์ รหัส 603021869-1\n"
     ]
    }
   ],
   "source": [
    "print(print_line1('นิธิศ','ประวิตรกาญจน์','603021869-1'))"
   ]
  },
  {
   "cell_type": "markdown",
   "metadata": {},
   "source": [
    "## เพิ่มเกรดเข้าไป ถ้าใส่ returnแล้วfunction จะหยุดทำงาน"
   ]
  },
  {
   "cell_type": "code",
   "execution_count": 25,
   "metadata": {},
   "outputs": [],
   "source": [
    "def print_2lines(name1,surname1,ID1,grade):\n",
    "    st = f'ชื่อ {name1} นามสกุล {surname1} รหัส {ID1}'\n",
    "    print(st)\n",
    "    st2 = f'เกรดวิชา stat1 >>> {grade}'\n",
    "    print(st2)"
   ]
  },
  {
   "cell_type": "code",
   "execution_count": 30,
   "metadata": {},
   "outputs": [
    {
     "name": "stdout",
     "output_type": "stream",
     "text": [
      "ชื่อ นิธิศ นามสกุล ประวิตรกาญจน์ รหัส 603021869-1\n",
      "เกรดวิชา stat1 >>> A\n",
      "ชื่อ ขวัญจิรา นามสกุล คำสรดี รหัส 603021106-3\n",
      "เกรดวิชา stat1 >>> A\n",
      "ชื่อ ปภัสรา นามสกุล ปัญจารักษ์ รหัส 603021871-4\n",
      "เกรดวิชา stat1 >>> A\n",
      "ชื่อ ปนัดา นามสกุล เกษอรุณศรี รหัส 603021870-6\n",
      "เกรดวิชา stat1 >>> A\n"
     ]
    }
   ],
   "source": [
    "print_2lines('นิธิศ','ประวิตรกาญจน์','603021869-1','A')\n",
    "print_2lines('ขวัญจิรา','คำสรดี','603021106-3','A')\n",
    "print_2lines('ปภัสรา','ปัญจารักษ์','603021871-4','A')\n",
    "print_2lines('ปนัดา','เกษอรุณศรี','603021870-6','A')"
   ]
  },
  {
   "cell_type": "markdown",
   "metadata": {},
   "source": [
    "## function ไม่มี input"
   ]
  },
  {
   "cell_type": "code",
   "execution_count": 34,
   "metadata": {},
   "outputs": [],
   "source": [
    "def two_x_three():\n",
    "    x=2*3\n",
    "    return x"
   ]
  },
  {
   "cell_type": "code",
   "execution_count": 35,
   "metadata": {},
   "outputs": [
    {
     "data": {
      "text/plain": [
       "6"
      ]
     },
     "execution_count": 35,
     "metadata": {},
     "output_type": "execute_result"
    }
   ],
   "source": [
    "two_x_three()"
   ]
  },
  {
   "cell_type": "markdown",
   "metadata": {},
   "source": [
    "## ฟังกชั่นที่ี input เป็น default"
   ]
  },
  {
   "cell_type": "markdown",
   "metadata": {},
   "source": [
    "## ถ้าไม่ใส่ค่า ระบบจะใช่ค่า default ให้เอง"
   ]
  },
  {
   "cell_type": "code",
   "execution_count": 41,
   "metadata": {},
   "outputs": [],
   "source": [
    "def print_2lines_default(name1,surname1,ID1,grade='F'):\n",
    "    st = f'ชื่อ {name1} นามสกุล {surname1} รหัส {ID1}'\n",
    "    print(st)\n",
    "    st2 = f'เกรดวิชา stat1 >>> {grade}'\n",
    "    print(st2)"
   ]
  },
  {
   "cell_type": "code",
   "execution_count": 42,
   "metadata": {},
   "outputs": [
    {
     "name": "stdout",
     "output_type": "stream",
     "text": [
      "ชื่อ นิธิศ นามสกุล ประวิตรกาญจน์ รหัส 603021869-1\n",
      "เกรดวิชา stat1 >>> F\n"
     ]
    }
   ],
   "source": [
    "print_2lines_default('นิธิศ','ประวิตรกาญจน์','603021869-1')"
   ]
  },
  {
   "cell_type": "code",
   "execution_count": 43,
   "metadata": {},
   "outputs": [
    {
     "name": "stdout",
     "output_type": "stream",
     "text": [
      "ชื่อ นิธิศ นามสกุล ประวิตรกาญจน์ รหัส 603021869-1\n",
      "เกรดวิชา stat1 >>> A\n"
     ]
    }
   ],
   "source": [
    "print_2lines('นิธิศ','ประวิตรกาญจน์','603021869-1','A')"
   ]
  },
  {
   "cell_type": "code",
   "execution_count": 49,
   "metadata": {},
   "outputs": [
    {
     "name": "stdout",
     "output_type": "stream",
     "text": [
      "ชื่อ ประวิตรกาญจน์ นามสกุล นิธิศ รหัส 603021869-1\n",
      "เกรดวิชา stat1 >>> F\n"
     ]
    }
   ],
   "source": [
    "print_2lines_default(surname1='นิธิศ',name1='ประวิตรกาญจน์',ID1 ='603021869-1')"
   ]
  },
  {
   "cell_type": "markdown",
   "metadata": {},
   "source": [
    "# Loop (วนซ้ำ)"
   ]
  },
  {
   "cell_type": "markdown",
   "metadata": {},
   "source": [
    "```Python\n",
    "for each_member in listA:\n",
    "     do something\n",
    " ```\n",
    " จะวนลูป each_member ใน listA"
   ]
  },
  {
   "cell_type": "code",
   "execution_count": 50,
   "metadata": {},
   "outputs": [
    {
     "name": "stdout",
     "output_type": "stream",
     "text": [
      "1\n",
      "2\n",
      "3\n"
     ]
    }
   ],
   "source": [
    "for i in [1,2,3]:\n",
    "    print(i)"
   ]
  },
  {
   "cell_type": "code",
   "execution_count": 54,
   "metadata": {},
   "outputs": [
    {
     "name": "stdout",
     "output_type": "stream",
     "text": [
      "N -> /\n",
      "\n",
      "i -> /\n",
      "\n",
      "t -> /\n",
      "\n",
      "h -> /\n",
      "\n",
      "i -> /\n",
      "\n",
      "t -> /\n",
      "\n"
     ]
    }
   ],
   "source": [
    "for i in 'Nithit':\n",
    "    print(f'{i} -> /')\n",
    "    print('')"
   ]
  },
  {
   "cell_type": "markdown",
   "metadata": {},
   "source": [
    "## 1.สร้าง list ชื่อเพื่อนที่อยู่ในแถวยาวเดียวกัน\n",
    "## 1.5.วนลูป print ประโยคว่า xxxเรา yyyความรู้สึก zzzเพื่อน ทุกคนในแถวยาว\n",
    "## 2.วนลูป เรียก function โดยเปลี่ยนชื่อเพื่อนไปเรื่อยๆ"
   ]
  },
  {
   "cell_type": "code",
   "execution_count": 58,
   "metadata": {},
   "outputs": [
    {
     "data": {
      "text/plain": [
       "'ฟลุ๊ค รัก [i]'"
      ]
     },
     "execution_count": 58,
     "metadata": {},
     "output_type": "execute_result"
    }
   ],
   "source": [
    "f'ฟลุ๊ค รัก [i]'"
   ]
  },
  {
   "cell_type": "code",
   "execution_count": 68,
   "metadata": {},
   "outputs": [
    {
     "name": "stdout",
     "output_type": "stream",
     "text": [
      "ฟลุ๊ค รัก แคน\n",
      "ฟลุ๊ค รัก แป้ง\n",
      "ฟลุ๊ค รัก เนส\n",
      "ฟลุ๊ค รัก ออย\n",
      "ฟลุ๊ค รัก แบม\n",
      "ฟลุ๊ค รัก ผิง\n"
     ]
    }
   ],
   "source": [
    "for i in list_name:\n",
    "    print(f'ฟลุ๊ค รัก {i}')\n",
    "    "
   ]
  },
  {
   "cell_type": "markdown",
   "metadata": {},
   "source": [
    "## function in loop เฉลย"
   ]
  },
  {
   "cell_type": "code",
   "execution_count": 57,
   "metadata": {},
   "outputs": [],
   "source": [
    "list_name=['แคน','แป้ง','เนส','ออย','แบม','ผิง']"
   ]
  },
  {
   "cell_type": "code",
   "execution_count": 71,
   "metadata": {},
   "outputs": [],
   "source": [
    "def print_feeling(I,feeling,friend):\n",
    "    print(f'{I} {feeling} {friend}')\n"
   ]
  },
  {
   "cell_type": "code",
   "execution_count": 72,
   "metadata": {},
   "outputs": [
    {
     "name": "stdout",
     "output_type": "stream",
     "text": [
      "ฟลุ๊ค รัก ฟลุ๊ค\n"
     ]
    }
   ],
   "source": [
    "print_feeling('ฟลุ๊ค','รัก','ฟลุ๊ค')"
   ]
  },
  {
   "cell_type": "code",
   "execution_count": 73,
   "metadata": {},
   "outputs": [
    {
     "name": "stdout",
     "output_type": "stream",
     "text": [
      "ฟลุ๊ค รัก แคน\n",
      "ฟลุ๊ค รัก แป้ง\n",
      "ฟลุ๊ค รัก เนส\n",
      "ฟลุ๊ค รัก ออย\n",
      "ฟลุ๊ค รัก แบม\n",
      "ฟลุ๊ค รัก ผิง\n"
     ]
    }
   ],
   "source": [
    "for i in list_name:\n",
    "    print_feeling('ฟลุ๊ค','รัก',i)\n"
   ]
  },
  {
   "cell_type": "markdown",
   "metadata": {},
   "source": [
    "## loop in loop มี 2 loop"
   ]
  },
  {
   "cell_type": "code",
   "execution_count": 100,
   "metadata": {},
   "outputs": [
    {
     "name": "stdout",
     "output_type": "stream",
     "text": [
      "แคน รัก แคน\n",
      "แคน รัก แป้ง\n",
      "แคน รัก เนส\n",
      "แคน รัก ออย\n",
      "แคน รัก แบม\n",
      "แคน รัก ผิง\n",
      "แป้ง รัก แคน\n",
      "แป้ง รัก แป้ง\n",
      "แป้ง รัก เนส\n",
      "แป้ง รัก ออย\n",
      "แป้ง รัก แบม\n",
      "แป้ง รัก ผิง\n",
      "เนส รัก แคน\n",
      "เนส รัก แป้ง\n",
      "เนส รัก เนส\n",
      "เนส รัก ออย\n",
      "เนส รัก แบม\n",
      "เนส รัก ผิง\n",
      "ออย รัก แคน\n",
      "ออย รัก แป้ง\n",
      "ออย รัก เนส\n",
      "ออย รัก ออย\n",
      "ออย รัก แบม\n",
      "ออย รัก ผิง\n",
      "แบม รัก แคน\n",
      "แบม รัก แป้ง\n",
      "แบม รัก เนส\n",
      "แบม รัก ออย\n",
      "แบม รัก แบม\n",
      "แบม รัก ผิง\n",
      "ผิง รัก แคน\n",
      "ผิง รัก แป้ง\n",
      "ผิง รัก เนส\n",
      "ผิง รัก ออย\n",
      "ผิง รัก แบม\n",
      "ผิง รัก ผิง\n"
     ]
    }
   ],
   "source": [
    "for name1 in list_name:\n",
    "    for name2 in list_name:\n",
    "        print_feeling(name1,'รัก',name2)"
   ]
  },
  {
   "cell_type": "markdown",
   "metadata": {},
   "source": [
    "## loop in function"
   ]
  },
  {
   "cell_type": "code",
   "execution_count": 83,
   "metadata": {},
   "outputs": [],
   "source": [
    "def print_feelings(I,feeling,friend):\n",
    "    for friend in list_name:\n",
    "        print(f'{I} {feeling} {friend}')"
   ]
  },
  {
   "cell_type": "code",
   "execution_count": 84,
   "metadata": {},
   "outputs": [
    {
     "name": "stdout",
     "output_type": "stream",
     "text": [
      "ฟลุ๊ค รัก แคน\n",
      "ฟลุ๊ค รัก แป้ง\n",
      "ฟลุ๊ค รัก เนส\n",
      "ฟลุ๊ค รัก ออย\n",
      "ฟลุ๊ค รัก แบม\n",
      "ฟลุ๊ค รัก ผิง\n"
     ]
    }
   ],
   "source": [
    "print_feelings('ฟลุ๊ค','รัก',list_name)"
   ]
  },
  {
   "cell_type": "markdown",
   "metadata": {},
   "source": [
    "## วนลูปใน dic"
   ]
  },
  {
   "cell_type": "code",
   "execution_count": 91,
   "metadata": {},
   "outputs": [
    {
     "data": {
      "text/plain": [
       "{'นิธิศ': 'A', 'ศุภนิตา': 'C', 'ปนัดดา': 'A', 'ทรงกลด': 'F'}"
      ]
     },
     "execution_count": 91,
     "metadata": {},
     "output_type": "execute_result"
    }
   ],
   "source": [
    "name_grade = {'นิธิศ':'A','ศุภนิตา':'C','ปนัดดา':'A','ทรงกลด':'F'}\n",
    "name_grade"
   ]
  },
  {
   "cell_type": "code",
   "execution_count": 92,
   "metadata": {},
   "outputs": [
    {
     "data": {
      "text/plain": [
       "'A'"
      ]
     },
     "execution_count": 92,
     "metadata": {},
     "output_type": "execute_result"
    }
   ],
   "source": [
    "name_grade['นิธิศ']\n",
    "  "
   ]
  },
  {
   "cell_type": "markdown",
   "metadata": {},
   "source": [
    "## เติม keys จะได้ list ออกมา"
   ]
  },
  {
   "cell_type": "code",
   "execution_count": 93,
   "metadata": {},
   "outputs": [
    {
     "name": "stdout",
     "output_type": "stream",
     "text": [
      "นิธิศ\n",
      "ศุภนิตา\n",
      "ปนัดดา\n",
      "ทรงกลด\n"
     ]
    }
   ],
   "source": [
    "for i in name_grade.keys():\n",
    "    print(i)\n",
    "    "
   ]
  },
  {
   "cell_type": "code",
   "execution_count": 96,
   "metadata": {},
   "outputs": [
    {
     "name": "stdout",
     "output_type": "stream",
     "text": [
      "นิธิศ ได้เกรด A\n",
      "ศุภนิตา ได้เกรด C\n",
      "ปนัดดา ได้เกรด A\n",
      "ทรงกลด ได้เกรด F\n"
     ]
    }
   ],
   "source": [
    "for i in name_grade.keys():\n",
    "    print(f'{i} ได้เกรด {name_grade[i]}')\n",
    "    "
   ]
  },
  {
   "cell_type": "markdown",
   "metadata": {},
   "source": [
    "## Conditional เงื่อนไข"
   ]
  },
  {
   "cell_type": "markdown",
   "metadata": {},
   "source": [
    "```Python\n",
    " if condition1\n",
    "    do something\n",
    "elif condition2\n",
    "    do another thing\n",
    "else:\n",
    "    do...    \n",
    "   \n",
    " condition1 เป็นได้ t or f ถ้าไม่ผ่านเงื่อนไขแรก จะมา elif condition2 แทน\n",
    "    \n",
    "```"
   ]
  },
  {
   "cell_type": "markdown",
   "metadata": {},
   "source": [
    "### ทำให้ชื่อเดียวกันไม่มาซ้ำกัน"
   ]
  },
  {
   "cell_type": "code",
   "execution_count": 105,
   "metadata": {},
   "outputs": [
    {
     "name": "stdout",
     "output_type": "stream",
     "text": [
      "แคน รัก แป้ง\n",
      "แคน รัก เนส\n",
      "แคน รัก ออย\n",
      "แคน รัก แบม\n",
      "แคน รัก ผิง\n",
      "แป้ง รัก แคน\n",
      "แป้ง รัก เนส\n",
      "แป้ง รัก ออย\n",
      "แป้ง รัก แบม\n",
      "แป้ง รัก ผิง\n",
      "เนส รัก แคน\n",
      "เนส รัก แป้ง\n",
      "เนส รัก ออย\n",
      "เนส รัก แบม\n",
      "เนส รัก ผิง\n",
      "ออย รัก แคน\n",
      "ออย รัก แป้ง\n",
      "ออย รัก เนส\n",
      "ออย รัก แบม\n",
      "ออย รัก ผิง\n",
      "แบม รัก แคน\n",
      "แบม รัก แป้ง\n",
      "แบม รัก เนส\n",
      "แบม รัก ออย\n",
      "แบม รัก ผิง\n",
      "ผิง รัก แคน\n",
      "ผิง รัก แป้ง\n",
      "ผิง รัก เนส\n",
      "ผิง รัก ออย\n",
      "ผิง รัก แบม\n"
     ]
    }
   ],
   "source": [
    "for name1 in list_name:\n",
    "    for name2 in list_name:\n",
    "        if name1 != name2:\n",
    "         print_feeling(name1,'รัก',name2)"
   ]
  },
  {
   "cell_type": "code",
   "execution_count": 107,
   "metadata": {},
   "outputs": [
    {
     "name": "stdout",
     "output_type": "stream",
     "text": [
      "Yes\n"
     ]
    }
   ],
   "source": [
    "if True:\n",
    "    print('Yes')"
   ]
  },
  {
   "cell_type": "code",
   "execution_count": 109,
   "metadata": {},
   "outputs": [],
   "source": [
    "if False:\n",
    "    print('No')"
   ]
  },
  {
   "cell_type": "markdown",
   "metadata": {},
   "source": [
    "## เช็คเงื่อนไขหลัง if"
   ]
  },
  {
   "cell_type": "code",
   "execution_count": 110,
   "metadata": {},
   "outputs": [
    {
     "name": "stdout",
     "output_type": "stream",
     "text": [
      "No\n"
     ]
    }
   ],
   "source": [
    "if False:\n",
    "    print('Yes')\n",
    "else:\n",
    "    print('No')"
   ]
  },
  {
   "cell_type": "code",
   "execution_count": 112,
   "metadata": {},
   "outputs": [
    {
     "name": "stdout",
     "output_type": "stream",
     "text": [
      "1=1\n"
     ]
    }
   ],
   "source": [
    "if 1 == 1:\n",
    "    print('1=1')\n",
    "     "
   ]
  },
  {
   "cell_type": "markdown",
   "metadata": {},
   "source": [
    "### == ตัวหน้าเท่ากับหลังจะตอบว่าtrue, != ไม่เท่ากันหลังจะตอบว่าtrue ,>= ข้างหน้ามากกว่าข้างหลังหรือป่าวหลังจะตอบว่าtrue,  <= ,< ,>"
   ]
  },
  {
   "cell_type": "markdown",
   "metadata": {},
   "source": [
    "# HW\n",
    "## เขียนฟังกชั่นตัดเกรด โดยที่ input เป็นคะแนน(0-100) output เป็นเกรด(F-A) \n",
    "## input = [1,50,65,90,101,-5,49]"
   ]
  },
  {
   "cell_type": "code",
   "execution_count": 77,
   "metadata": {},
   "outputs": [],
   "source": [
    "y=2"
   ]
  },
  {
   "cell_type": "code",
   "execution_count": 79,
   "metadata": {},
   "outputs": [],
   "source": [
    "def score(i):\n",
    "    if i > 79:\n",
    "        print (\"A\")\n",
    "    elif i > 74:\n",
    "        print (\"B+\")\n",
    "    elif  i > 69:\n",
    "        print (\"B\")\n",
    "    elif i > 64:\n",
    "        print (\"C+\")\n",
    "    elif  i > 59:\n",
    "        print (\"C\")\n",
    "    elif i > 54:\n",
    "        print (\"D+\")\n",
    "    elif i > 49:\n",
    "        print (\"D\")\n",
    "    else:\n",
    "        print (\"F\")"
   ]
  },
  {
   "cell_type": "code",
   "execution_count": 80,
   "metadata": {},
   "outputs": [
    {
     "name": "stdout",
     "output_type": "stream",
     "text": [
      "F\n",
      "D\n",
      "C+\n",
      "A\n",
      "A\n",
      "F\n",
      "F\n"
     ]
    }
   ],
   "source": [
    "score(1)\n",
    "score(50)\n",
    "score(65)\n",
    "score(90)\n",
    "score(101)\n",
    "score(-5)\n",
    "score(49)"
   ]
  },
  {
   "cell_type": "code",
   "execution_count": null,
   "metadata": {},
   "outputs": [],
   "source": []
  },
  {
   "cell_type": "code",
   "execution_count": null,
   "metadata": {},
   "outputs": [],
   "source": []
  },
  {
   "cell_type": "code",
   "execution_count": null,
   "metadata": {},
   "outputs": [],
   "source": []
  }
 ],
 "metadata": {
  "kernelspec": {
   "display_name": "Python 3",
   "language": "python",
   "name": "python3"
  },
  "language_info": {
   "codemirror_mode": {
    "name": "ipython",
    "version": 3
   },
   "file_extension": ".py",
   "mimetype": "text/x-python",
   "name": "python",
   "nbconvert_exporter": "python",
   "pygments_lexer": "ipython3",
   "version": "3.7.4"
  }
 },
 "nbformat": 4,
 "nbformat_minor": 2
}
